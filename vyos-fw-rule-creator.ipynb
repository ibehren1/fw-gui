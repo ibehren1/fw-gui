{
 "cells": [
  {
   "cell_type": "code",
   "execution_count": 3,
   "id": "ff4cbb34-a781-4e63-b878-16a78a5ce18c",
   "metadata": {
    "scrolled": true
   },
   "outputs": [
    {
     "name": "stdout",
     "output_type": "stream",
     "text": [
      "Create firewall rule code.\n"
     ]
    },
    {
     "data": {
      "application/vnd.jupyter.widget-view+json": {
       "model_id": "1f3afdbacfa74d419488d5be3305d053",
       "version_major": 2,
       "version_minor": 0
      },
      "text/plain": [
       "Label(value='IP Version', style=LabelStyle(font_variant='small-caps', font_weight='bold'))"
      ]
     },
     "metadata": {},
     "output_type": "display_data"
    },
    {
     "data": {
      "application/vnd.jupyter.widget-view+json": {
       "model_id": "8512083c5cc94bac8c65e3392b97f36d",
       "version_major": 2,
       "version_minor": 0
      },
      "text/plain": [
       "RadioButtons(layout=Layout(width='max-content'), options=('ipv4', 'ipv6'), value='ipv4')"
      ]
     },
     "metadata": {},
     "output_type": "display_data"
    },
    {
     "data": {
      "application/vnd.jupyter.widget-view+json": {
       "model_id": "6ab142dd3668438bb3666dcfbf1fb05e",
       "version_major": 2,
       "version_minor": 0
      },
      "text/plain": [
       "Label(value='Firewall Table', style=LabelStyle(font_variant='small-caps', font_weight='bold'))"
      ]
     },
     "metadata": {},
     "output_type": "display_data"
    },
    {
     "data": {
      "application/vnd.jupyter.widget-view+json": {
       "model_id": "7f611c47e0224ece88ea3de5cc2562b0",
       "version_major": 2,
       "version_minor": 0
      },
      "text/plain": [
       "Text(value='', description='Table:')"
      ]
     },
     "metadata": {},
     "output_type": "display_data"
    },
    {
     "data": {
      "application/vnd.jupyter.widget-view+json": {
       "model_id": "239045cf1e444834ac9bd7330a2e47c0",
       "version_major": 2,
       "version_minor": 0
      },
      "text/plain": [
       "Label(value='Rule', style=LabelStyle(font_variant='small-caps', font_weight='bold'))"
      ]
     },
     "metadata": {},
     "output_type": "display_data"
    },
    {
     "data": {
      "application/vnd.jupyter.widget-view+json": {
       "model_id": "900dded9f4df4455b1c4e8d8862296f4",
       "version_major": 2,
       "version_minor": 0
      },
      "text/plain": [
       "Text(value='', description='Rule number: ')"
      ]
     },
     "metadata": {},
     "output_type": "display_data"
    },
    {
     "data": {
      "application/vnd.jupyter.widget-view+json": {
       "model_id": "71b3596af5f44ad1927359d5c44e5de9",
       "version_major": 2,
       "version_minor": 0
      },
      "text/plain": [
       "Checkbox(value=False, description='Disable rule?', indent=False)"
      ]
     },
     "metadata": {},
     "output_type": "display_data"
    },
    {
     "data": {
      "application/vnd.jupyter.widget-view+json": {
       "model_id": "ca82d116184c42c894d4757e377d5d99",
       "version_major": 2,
       "version_minor": 0
      },
      "text/plain": [
       "Text(value='', description='Description: ')"
      ]
     },
     "metadata": {},
     "output_type": "display_data"
    },
    {
     "data": {
      "application/vnd.jupyter.widget-view+json": {
       "model_id": "8575a27a015b454781f13aac9541b30c",
       "version_major": 2,
       "version_minor": 0
      },
      "text/plain": [
       "Label(value='Action', style=LabelStyle(font_variant='small-caps', font_weight='bold'))"
      ]
     },
     "metadata": {},
     "output_type": "display_data"
    },
    {
     "data": {
      "application/vnd.jupyter.widget-view+json": {
       "model_id": "308f2b0790d145fa9e549e7971edf8ae",
       "version_major": 2,
       "version_minor": 0
      },
      "text/plain": [
       "RadioButtons(description='Action: ', options=('accept', 'continue', 'drop', 'jump', 'queue', 'reject', 'return…"
      ]
     },
     "metadata": {},
     "output_type": "display_data"
    },
    {
     "data": {
      "application/vnd.jupyter.widget-view+json": {
       "model_id": "384e805614d34541a12f672fec7d79f0",
       "version_major": 2,
       "version_minor": 0
      },
      "text/plain": [
       "Label(value='Destination', style=LabelStyle(font_variant='small-caps', font_weight='bold'))"
      ]
     },
     "metadata": {},
     "output_type": "display_data"
    },
    {
     "data": {
      "application/vnd.jupyter.widget-view+json": {
       "model_id": "dcba539e77c645fbba9bb68383ed15b1",
       "version_major": 2,
       "version_minor": 0
      },
      "text/plain": [
       "Text(value='', description='Address: ')"
      ]
     },
     "metadata": {},
     "output_type": "display_data"
    },
    {
     "data": {
      "application/vnd.jupyter.widget-view+json": {
       "model_id": "71882ea288f746a3989ff19fe328e8ec",
       "version_major": 2,
       "version_minor": 0
      },
      "text/plain": [
       "Text(value='', description='Group Name: ')"
      ]
     },
     "metadata": {},
     "output_type": "display_data"
    },
    {
     "data": {
      "application/vnd.jupyter.widget-view+json": {
       "model_id": "c3763587231a471ab33097b718b9efb2",
       "version_major": 2,
       "version_minor": 0
      },
      "text/plain": [
       "Checkbox(value=False, description='Address Group')"
      ]
     },
     "metadata": {},
     "output_type": "display_data"
    },
    {
     "data": {
      "application/vnd.jupyter.widget-view+json": {
       "model_id": "78c44de3f93c4197a49a890766f7e5ae",
       "version_major": 2,
       "version_minor": 0
      },
      "text/plain": [
       "Checkbox(value=False, description='Network Group')"
      ]
     },
     "metadata": {},
     "output_type": "display_data"
    },
    {
     "data": {
      "application/vnd.jupyter.widget-view+json": {
       "model_id": "695b57e1d9b248098f83b3597e0eea4e",
       "version_major": 2,
       "version_minor": 0
      },
      "text/plain": [
       "Checkbox(value=False, description='Port Group')"
      ]
     },
     "metadata": {},
     "output_type": "display_data"
    },
    {
     "data": {
      "application/vnd.jupyter.widget-view+json": {
       "model_id": "9f9db943575f40a186f7c896c296080c",
       "version_major": 2,
       "version_minor": 0
      },
      "text/plain": [
       "Label(value='Source', style=LabelStyle(font_variant='small-caps', font_weight='bold'))"
      ]
     },
     "metadata": {},
     "output_type": "display_data"
    },
    {
     "data": {
      "application/vnd.jupyter.widget-view+json": {
       "model_id": "360cabef51d84ce28ea4f69f61f047ae",
       "version_major": 2,
       "version_minor": 0
      },
      "text/plain": [
       "Text(value='', description='Address: ')"
      ]
     },
     "metadata": {},
     "output_type": "display_data"
    },
    {
     "data": {
      "application/vnd.jupyter.widget-view+json": {
       "model_id": "7463c31de7564fafaa68d1feef141e00",
       "version_major": 2,
       "version_minor": 0
      },
      "text/plain": [
       "Text(value='', description='Group Name: ')"
      ]
     },
     "metadata": {},
     "output_type": "display_data"
    },
    {
     "data": {
      "application/vnd.jupyter.widget-view+json": {
       "model_id": "365a83e249234fe08cd86bf6a4bca43d",
       "version_major": 2,
       "version_minor": 0
      },
      "text/plain": [
       "Checkbox(value=False, description='Address Group')"
      ]
     },
     "metadata": {},
     "output_type": "display_data"
    },
    {
     "data": {
      "application/vnd.jupyter.widget-view+json": {
       "model_id": "20a6470066f54fd7a3011bfd8a7f5e8a",
       "version_major": 2,
       "version_minor": 0
      },
      "text/plain": [
       "Checkbox(value=False, description='Network Group')"
      ]
     },
     "metadata": {},
     "output_type": "display_data"
    },
    {
     "data": {
      "application/vnd.jupyter.widget-view+json": {
       "model_id": "acafd9c403c045f1a517f065c5278831",
       "version_major": 2,
       "version_minor": 0
      },
      "text/plain": [
       "Checkbox(value=False, description='Port Group')"
      ]
     },
     "metadata": {},
     "output_type": "display_data"
    },
    {
     "data": {
      "application/vnd.jupyter.widget-view+json": {
       "model_id": "d75bba9e47e34f57a06a3898efd77c18",
       "version_major": 2,
       "version_minor": 0
      },
      "text/plain": [
       "Label(value='Protocol', style=LabelStyle(font_variant='small-caps', font_weight='bold'))"
      ]
     },
     "metadata": {},
     "output_type": "display_data"
    },
    {
     "data": {
      "application/vnd.jupyter.widget-view+json": {
       "model_id": "a56802a6d2b142b996026ec6f92677f6",
       "version_major": 2,
       "version_minor": 0
      },
      "text/plain": [
       "RadioButtons(description='Protocol', options=('tcp', 'udp', 'tcp_udp'), value='tcp')"
      ]
     },
     "metadata": {},
     "output_type": "display_data"
    },
    {
     "data": {
      "application/vnd.jupyter.widget-view+json": {
       "model_id": "4cf72193946544a0bbf904584568bea9",
       "version_major": 2,
       "version_minor": 0
      },
      "text/plain": [
       "Label(value='Logging', style=LabelStyle(font_variant='small-caps', font_weight='bold'))"
      ]
     },
     "metadata": {},
     "output_type": "display_data"
    },
    {
     "data": {
      "application/vnd.jupyter.widget-view+json": {
       "model_id": "926663eebb9444b88ab231da9ebfc5ed",
       "version_major": 2,
       "version_minor": 0
      },
      "text/plain": [
       "Checkbox(value=False, description='enable', indent=False)"
      ]
     },
     "metadata": {},
     "output_type": "display_data"
    },
    {
     "data": {
      "application/vnd.jupyter.widget-view+json": {
       "model_id": "e44399a291f349cfabf3bb667f76c802",
       "version_major": 2,
       "version_minor": 0
      },
      "text/plain": [
       "Label(value='State', style=LabelStyle(font_variant='small-caps', font_weight='bold'))"
      ]
     },
     "metadata": {},
     "output_type": "display_data"
    },
    {
     "data": {
      "application/vnd.jupyter.widget-view+json": {
       "model_id": "9739288a2a5642a98701855a7991d011",
       "version_major": 2,
       "version_minor": 0
      },
      "text/plain": [
       "Checkbox(value=False, description='established', indent=False)"
      ]
     },
     "metadata": {},
     "output_type": "display_data"
    },
    {
     "data": {
      "application/vnd.jupyter.widget-view+json": {
       "model_id": "bc045d19917e4c4a880203ae557735c7",
       "version_major": 2,
       "version_minor": 0
      },
      "text/plain": [
       "Checkbox(value=False, description='invalid', indent=False)"
      ]
     },
     "metadata": {},
     "output_type": "display_data"
    },
    {
     "data": {
      "application/vnd.jupyter.widget-view+json": {
       "model_id": "38a58bae75c24a5dbeb1946d123dc95f",
       "version_major": 2,
       "version_minor": 0
      },
      "text/plain": [
       "Checkbox(value=False, description='new', indent=False)"
      ]
     },
     "metadata": {},
     "output_type": "display_data"
    },
    {
     "data": {
      "application/vnd.jupyter.widget-view+json": {
       "model_id": "728c49a9addd45b2b595bdfd6e15b80e",
       "version_major": 2,
       "version_minor": 0
      },
      "text/plain": [
       "Checkbox(value=False, description='related', indent=False)"
      ]
     },
     "metadata": {},
     "output_type": "display_data"
    },
    {
     "data": {
      "application/vnd.jupyter.widget-view+json": {
       "model_id": "0c0f7f9135854772bac03375a37d4c8f",
       "version_major": 2,
       "version_minor": 0
      },
      "text/plain": [
       "Button(description='Generate', style=ButtonStyle())"
      ]
     },
     "metadata": {},
     "output_type": "display_data"
    },
    {
     "data": {
      "application/vnd.jupyter.widget-view+json": {
       "model_id": "57dea50db08e43d698e81389294bf5b1",
       "version_major": 2,
       "version_minor": 0
      },
      "text/plain": [
       "Output(layout=Layout(border_bottom='1px solid black', border_left='1px solid black', border_right='1px solid b…"
      ]
     },
     "metadata": {},
     "output_type": "display_data"
    }
   ],
   "source": [
    "import ipywidgets as widgets\n",
    "\n",
    "heading=dict(\n",
    "    font_weight='bold',\n",
    "    font_variant=\"small-caps\",\n",
    ")\n",
    "\n",
    "print(\"Create firewall rule code.\")\n",
    "\n",
    "ip_version_label = widgets.Label(value=\"IP Version\", style=heading)\n",
    "ip_version = widgets.RadioButtons(\n",
    "    options=[\"ipv4\", \"ipv6\"],\n",
    "    layout={\"width\": \"max-content\"},\n",
    ")\n",
    "\n",
    "fw_table_label = widgets.Label(value=\"Firewall Table\", style=heading)\n",
    "fw_table = widgets.Text(value=\"\", description=\"Table:\")\n",
    "\n",
    "\n",
    "description = widgets.Text(value=\"\", description=\"Description: \")\n",
    "\n",
    "rule_label = widgets.Label(value=\"Rule\", style=heading)\n",
    "rule = widgets.Text(value=\"\", description=\"Rule number: \")\n",
    "rule_disable = widgets.Checkbox(\n",
    "    value=False,\n",
    "    description=\"Disable rule?\",\n",
    "    indent=False\n",
    ")\n",
    "\n",
    "action_label = widgets.Label(value=\"Action\", style=heading)\n",
    "action = widgets.RadioButtons(\n",
    "    options=[\n",
    "        \"accept\",\n",
    "        \"continue\",\n",
    "        \"drop\",\n",
    "        \"jump\",\n",
    "        \"queue\",\n",
    "        \"reject\",\n",
    "        \"return\",\n",
    "        \"synproxy\",\n",
    "    ],\n",
    "    indent=True,\n",
    "    description=\"Action: \",\n",
    ")\n",
    "\n",
    "# Destination \n",
    "destination_label = widgets.Label(value=\"Destination\", style=heading)\n",
    "destination = widgets.Text(value=\"\", description=\"Address: \")\n",
    "destination_group_name = widgets.Text(value=\"\", description=\"Group Name: \")\n",
    "destination_address_group = widgets.Checkbox(\n",
    "    value=False,\n",
    "    description=\"Address Group\",\n",
    ")\n",
    "destination_network_group = widgets.Checkbox(\n",
    "    value=False,\n",
    "    description=\"Network Group\",\n",
    ")\n",
    "destination_port_group = widgets.Checkbox(\n",
    "    value=False,\n",
    "    description=\"Port Group\",\n",
    ")\n",
    "\n",
    "# Source\n",
    "source_label = widgets.Label(value=\"Source\", style=heading)\n",
    "source = widgets.Text(value=\"\", description=\"Address: \")\n",
    "source_group_name = widgets.Text(value=\"\", description=\"Group Name: \")\n",
    "source_address_group = widgets.Checkbox(\n",
    "    value=False,\n",
    "    description=\"Address Group\",\n",
    "    indent=True\n",
    ")\n",
    "source_network_group = widgets.Checkbox(\n",
    "    value=False,\n",
    "    description=\"Network Group\",\n",
    "    indent=True\n",
    ")\n",
    "source_port_group = widgets.Checkbox(\n",
    "    value=False,\n",
    "    description=\"Port Group\",\n",
    "    indent=True\n",
    ")\n",
    "\n",
    "protocol_label = widgets.Label(value=\"Protocol\", style=heading)\n",
    "protocol = widgets.RadioButtons(\n",
    "    options=[\n",
    "        \"tcp\",\n",
    "        \"udp\",\n",
    "        \"tcp_udp\",\n",
    "    ],\n",
    "    description=\"Protocol\"\n",
    ")\n",
    "\n",
    "log_label = widgets.Label(value=\"Logging\", style=heading)\n",
    "log = widgets.Checkbox(\n",
    "    value=False,\n",
    "    description=\"enable\",\n",
    "    indent=False\n",
    ")\n",
    "\n",
    "state_label = widgets.Label(value=\"State\", style=heading)\n",
    "state_est = widgets.Checkbox(\n",
    "    value=False,\n",
    "    description=\"established\",\n",
    "    indent=False\n",
    ")\n",
    "state_inv = widgets.Checkbox(\n",
    "    value=False,\n",
    "    description=\"invalid\",\n",
    "    indent=False\n",
    ")\n",
    "state_new = widgets.Checkbox(\n",
    "    value=False,\n",
    "    description=\"new\",\n",
    "    indent=False\n",
    ")\n",
    "state_rel = widgets.Checkbox(\n",
    "    value=False,\n",
    "    description=\"related\",\n",
    "    indent=False\n",
    ")\n",
    "\n",
    "out = widgets.Output(layout={'border': '1px solid black'})\n",
    "out\n",
    "\n",
    "@out.capture(clear_output=True)\n",
    "def generate_config(event):\n",
    "\n",
    "    # Create firewall configuration\n",
    "\n",
    "    print(\"#\\n# Rule {0}\\n#\".format(rule.value))\n",
    "    \n",
    "    \n",
    "    # Disable\n",
    "    if rule_disable.value:\n",
    "        print(\"set firewall {0} name {1} rule {2} disable\".format(ip_version.value,fw_table.value,rule.value))\n",
    "    \n",
    "    \n",
    "    # Description\n",
    "    print(\"set firewall {0} name {1} rule {2} description \\'{3}\\'\".format(ip_version.value,fw_table.value,rule.value, description.value))\n",
    "    \n",
    "    \n",
    "    # Action\n",
    "    print(\"set firewall {0} name {1} rule {2} action {3}\".format(ip_version.value,fw_table.value,rule.value, action.value))\n",
    "    \n",
    "    \n",
    "    # Destination\n",
    "    if destination.value != \"\":\n",
    "        print(\"set firewall {0} name {1} rule {2} destination address {3}\".format(ip_version.value,fw_table.value,rule.value, destination.value))\n",
    "    if destination_address_group.value:\n",
    "        print(\"set firewall {0} name {1} rule {2} destination group address-group {3}\".format(ip_version.value,fw_table.value,rule.value, destination_group_name.value))\n",
    "    elif destination_network_group.value:\n",
    "        print(\"set firewall {0} name {1} rule {2} destination group network-group {3}\".format(ip_version.value,fw_table.value,rule.value, destination_group_name.value))\n",
    "    elif destination_port_group.value:\n",
    "        print(\"set firewall {0} name {1} rule {2} destination group port-group {3}\".format(ip_version.value,fw_table.value,rule.value, destination_group_name.value))\n",
    "    \n",
    "    \n",
    "    # Source\n",
    "    if source.value != \"\":\n",
    "        print(\"set firewall {0} name {1} rule {2} source address {3}\".format(ip_version.value,fw_table.value,rule.value, source.value))\n",
    "    if source_address_group.value:\n",
    "        print(\"set firewall {0} name {1} rule {2} source group address-group {3}\".format(ip_version.value,fw_table.value,rule.value, source_group_name.value))\n",
    "    elif source_network_group.value:\n",
    "        print(\"set firewall {0} name {1} rule {2} source group network-group {3}\".format(ip_version.value,fw_table.value,rule.value, source_group_name.value))\n",
    "    elif source_port_group.value:\n",
    "        print(\"set firewall {0} name {1} rule {2} source group port-group {3}\".format(ip_version.value,fw_table.value,rule.value, source_group_name.value))\n",
    "    \n",
    "    \n",
    "    # Protocol\n",
    "    print(\"set firewall {0} name {1} rule {2} protocol {3}\".format(ip_version.value,fw_table.value,rule.value, protocol.value))\n",
    "    \n",
    "    \n",
    "    # Logging\n",
    "    if log.value:\n",
    "        print(\"set firewall {0} name {1} rule {2} log\".format(ip_version.value,fw_table.value,rule.value))\n",
    "    \n",
    "    \n",
    "    # States\n",
    "    if state_est.value:\n",
    "        print(\"set firewall {0} name {1} rule {2} state 'established'\".format(ip_version.value,fw_table.value,rule.value))\n",
    "    if state_inv.value:\n",
    "        print(\"set firewall {0} name {1} rule {2} state 'invalid'\".format(ip_version.value,fw_table.value,rule.value))\n",
    "    if state_new.value:\n",
    "        print(\"set firewall {0} name {1} rule {2} state 'new'\".format(ip_version.value,fw_table.value,rule.value))\n",
    "    if state_rel.value:\n",
    "        print(\"set firewall {0} name {1} rule {2} state 'related'\".format(ip_version.value,fw_table.value,rule.value))\n",
    "\n",
    "    return\n",
    "\n",
    "button = widgets.Button(\n",
    "    description='Generate',)\n",
    "button.on_click(generate_config)\n",
    "button\n",
    "\n",
    "# Display the form\n",
    "display(\n",
    "    ip_version_label,\n",
    "        ip_version, \n",
    "    fw_table_label,\n",
    "        fw_table,\n",
    "    rule_label,\n",
    "        rule,\n",
    "        rule_disable,\n",
    "        description,\n",
    "    action_label,\n",
    "        action,\n",
    "    destination_label,\n",
    "        destination,\n",
    "        destination_group_name,\n",
    "        destination_address_group,\n",
    "        destination_network_group,\n",
    "        destination_port_group,\n",
    "    source_label,\n",
    "        source,\n",
    "        source_group_name,\n",
    "        source_address_group,\n",
    "        source_network_group,\n",
    "        source_port_group,\n",
    "    protocol_label,\n",
    "        protocol,\n",
    "    log_label,\n",
    "        log,\n",
    "    state_label, \n",
    "        state_est,\n",
    "        state_inv,\n",
    "        state_new,\n",
    "        state_rel,\n",
    "    button,\n",
    "    out\n",
    ")\n"
   ]
  }
 ],
 "metadata": {
  "kernelspec": {
   "display_name": "Python 3 (ipykernel)",
   "language": "python",
   "name": "python3"
  },
  "language_info": {
   "codemirror_mode": {
    "name": "ipython",
    "version": 3
   },
   "file_extension": ".py",
   "mimetype": "text/x-python",
   "name": "python",
   "nbconvert_exporter": "python",
   "pygments_lexer": "ipython3",
   "version": "3.11.6"
  }
 },
 "nbformat": 4,
 "nbformat_minor": 5
}
