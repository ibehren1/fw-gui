{
 "cells": [
  {
   "cell_type": "code",
   "execution_count": 1,
   "id": "ff4cbb34-a781-4e63-b878-16a78a5ce18c",
   "metadata": {
    "scrolled": true
   },
   "outputs": [
    {
     "name": "stdout",
     "output_type": "stream",
     "text": [
      "Create firewall rule code.\n"
     ]
    },
    {
     "data": {
      "application/vnd.jupyter.widget-view+json": {
       "model_id": "7ce3648d10ae4d80987d9df21a9dbe7d",
       "version_major": 2,
       "version_minor": 0
      },
      "text/plain": [
       "Label(value='IP Version', style=LabelStyle(font_variant='small-caps', font_weight='bold'))"
      ]
     },
     "metadata": {},
     "output_type": "display_data"
    },
    {
     "data": {
      "application/vnd.jupyter.widget-view+json": {
       "model_id": "c7ccf5ce790b4fdd8cbf5481966b6176",
       "version_major": 2,
       "version_minor": 0
      },
      "text/plain": [
       "RadioButtons(layout=Layout(width='max-content'), options=('ipv4', 'ipv6'), value='ipv4')"
      ]
     },
     "metadata": {},
     "output_type": "display_data"
    },
    {
     "data": {
      "application/vnd.jupyter.widget-view+json": {
       "model_id": "c773a22f18364c86915535c80931bb45",
       "version_major": 2,
       "version_minor": 0
      },
      "text/plain": [
       "Label(value='Firewall Table', style=LabelStyle(font_variant='small-caps', font_weight='bold'))"
      ]
     },
     "metadata": {},
     "output_type": "display_data"
    },
    {
     "data": {
      "application/vnd.jupyter.widget-view+json": {
       "model_id": "acbd48ce741e45dbba41cee53551f33c",
       "version_major": 2,
       "version_minor": 0
      },
      "text/plain": [
       "Text(value='', description='Table:')"
      ]
     },
     "metadata": {},
     "output_type": "display_data"
    },
    {
     "data": {
      "application/vnd.jupyter.widget-view+json": {
       "model_id": "fb78a2c8ed2d4de1a31531f1a602c8e1",
       "version_major": 2,
       "version_minor": 0
      },
      "text/plain": [
       "Label(value='Rule', style=LabelStyle(font_variant='small-caps', font_weight='bold'))"
      ]
     },
     "metadata": {},
     "output_type": "display_data"
    },
    {
     "data": {
      "application/vnd.jupyter.widget-view+json": {
       "model_id": "035525012dfe45769245366519fbe784",
       "version_major": 2,
       "version_minor": 0
      },
      "text/plain": [
       "Text(value='', description='Rule number: ')"
      ]
     },
     "metadata": {},
     "output_type": "display_data"
    },
    {
     "data": {
      "application/vnd.jupyter.widget-view+json": {
       "model_id": "70b49fcab9c34d0495f60355c1424087",
       "version_major": 2,
       "version_minor": 0
      },
      "text/plain": [
       "Checkbox(value=False, description='Disable rule?', indent=False)"
      ]
     },
     "metadata": {},
     "output_type": "display_data"
    },
    {
     "data": {
      "application/vnd.jupyter.widget-view+json": {
       "model_id": "773e9f4927354e77b983002a40425370",
       "version_major": 2,
       "version_minor": 0
      },
      "text/plain": [
       "Text(value='', description='Description: ')"
      ]
     },
     "metadata": {},
     "output_type": "display_data"
    },
    {
     "data": {
      "application/vnd.jupyter.widget-view+json": {
       "model_id": "925b2cccb6364e4f948d0aeee5e21016",
       "version_major": 2,
       "version_minor": 0
      },
      "text/plain": [
       "Label(value='Action', style=LabelStyle(font_variant='small-caps', font_weight='bold'))"
      ]
     },
     "metadata": {},
     "output_type": "display_data"
    },
    {
     "data": {
      "application/vnd.jupyter.widget-view+json": {
       "model_id": "dd9a1b29570947cd86682e47d6f516ef",
       "version_major": 2,
       "version_minor": 0
      },
      "text/plain": [
       "RadioButtons(description='Action: ', options=('accept', 'continue', 'drop', 'jump', 'queue', 'reject', 'return…"
      ]
     },
     "metadata": {},
     "output_type": "display_data"
    },
    {
     "data": {
      "application/vnd.jupyter.widget-view+json": {
       "model_id": "fddfdfccf2f34c839bb6f576469e8f97",
       "version_major": 2,
       "version_minor": 0
      },
      "text/plain": [
       "Label(value='Destination', style=LabelStyle(font_variant='small-caps', font_weight='bold'))"
      ]
     },
     "metadata": {},
     "output_type": "display_data"
    },
    {
     "data": {
      "application/vnd.jupyter.widget-view+json": {
       "model_id": "36526dfc5c444cfdafef50447d453908",
       "version_major": 2,
       "version_minor": 0
      },
      "text/plain": [
       "Text(value='', description='Address: ')"
      ]
     },
     "metadata": {},
     "output_type": "display_data"
    },
    {
     "data": {
      "application/vnd.jupyter.widget-view+json": {
       "model_id": "2aca7052e005476b9ecdbf77e0602136",
       "version_major": 2,
       "version_minor": 0
      },
      "text/plain": [
       "Text(value='', description='Group Name: ')"
      ]
     },
     "metadata": {},
     "output_type": "display_data"
    },
    {
     "data": {
      "application/vnd.jupyter.widget-view+json": {
       "model_id": "8c9f08e173b64e1aa2e206220bc1563f",
       "version_major": 2,
       "version_minor": 0
      },
      "text/plain": [
       "Checkbox(value=False, description='Address Group')"
      ]
     },
     "metadata": {},
     "output_type": "display_data"
    },
    {
     "data": {
      "application/vnd.jupyter.widget-view+json": {
       "model_id": "91ab380232884010b20a73184e3e0da2",
       "version_major": 2,
       "version_minor": 0
      },
      "text/plain": [
       "Checkbox(value=False, description='Network Group')"
      ]
     },
     "metadata": {},
     "output_type": "display_data"
    },
    {
     "data": {
      "application/vnd.jupyter.widget-view+json": {
       "model_id": "efd13ef7f5c141c780ff242023521ddc",
       "version_major": 2,
       "version_minor": 0
      },
      "text/plain": [
       "Checkbox(value=False, description='Port Group')"
      ]
     },
     "metadata": {},
     "output_type": "display_data"
    },
    {
     "data": {
      "application/vnd.jupyter.widget-view+json": {
       "model_id": "8bc9966dc61a424db4f7bb8a5f06c9dc",
       "version_major": 2,
       "version_minor": 0
      },
      "text/plain": [
       "Label(value='Source', style=LabelStyle(font_variant='small-caps', font_weight='bold'))"
      ]
     },
     "metadata": {},
     "output_type": "display_data"
    },
    {
     "data": {
      "application/vnd.jupyter.widget-view+json": {
       "model_id": "d15c5b037c954ebd92f497d31ed0bcfd",
       "version_major": 2,
       "version_minor": 0
      },
      "text/plain": [
       "Text(value='', description='Address: ')"
      ]
     },
     "metadata": {},
     "output_type": "display_data"
    },
    {
     "data": {
      "application/vnd.jupyter.widget-view+json": {
       "model_id": "f444a63fada84a738bb1724a55bef4c0",
       "version_major": 2,
       "version_minor": 0
      },
      "text/plain": [
       "Text(value='', description='Group Name: ')"
      ]
     },
     "metadata": {},
     "output_type": "display_data"
    },
    {
     "data": {
      "application/vnd.jupyter.widget-view+json": {
       "model_id": "5bac41d91b2a414f8a0bdc2e4702b44c",
       "version_major": 2,
       "version_minor": 0
      },
      "text/plain": [
       "Checkbox(value=False, description='Address Group')"
      ]
     },
     "metadata": {},
     "output_type": "display_data"
    },
    {
     "data": {
      "application/vnd.jupyter.widget-view+json": {
       "model_id": "bc506626bc6a4e5c8d20bde0275d12a3",
       "version_major": 2,
       "version_minor": 0
      },
      "text/plain": [
       "Checkbox(value=False, description='Network Group')"
      ]
     },
     "metadata": {},
     "output_type": "display_data"
    },
    {
     "data": {
      "application/vnd.jupyter.widget-view+json": {
       "model_id": "4e1da2015a084799a52ed20041c08b91",
       "version_major": 2,
       "version_minor": 0
      },
      "text/plain": [
       "Checkbox(value=False, description='Port Group')"
      ]
     },
     "metadata": {},
     "output_type": "display_data"
    },
    {
     "data": {
      "application/vnd.jupyter.widget-view+json": {
       "model_id": "34d81a8f273345c99f54e6b9b1dff626",
       "version_major": 2,
       "version_minor": 0
      },
      "text/plain": [
       "Label(value='Protocol', style=LabelStyle(font_variant='small-caps', font_weight='bold'))"
      ]
     },
     "metadata": {},
     "output_type": "display_data"
    },
    {
     "data": {
      "application/vnd.jupyter.widget-view+json": {
       "model_id": "bd727051bf314032861bcbb2759465f0",
       "version_major": 2,
       "version_minor": 0
      },
      "text/plain": [
       "RadioButtons(description='Protocol', options=('tcp', 'udp', 'tcp_udp'), value='tcp')"
      ]
     },
     "metadata": {},
     "output_type": "display_data"
    },
    {
     "data": {
      "application/vnd.jupyter.widget-view+json": {
       "model_id": "1dcba2b700fd44d0914190a6e8083b7d",
       "version_major": 2,
       "version_minor": 0
      },
      "text/plain": [
       "Label(value='Logging', style=LabelStyle(font_variant='small-caps', font_weight='bold'))"
      ]
     },
     "metadata": {},
     "output_type": "display_data"
    },
    {
     "data": {
      "application/vnd.jupyter.widget-view+json": {
       "model_id": "6771239d29184acfae0dc2995f5a5122",
       "version_major": 2,
       "version_minor": 0
      },
      "text/plain": [
       "Checkbox(value=False, description='enable', indent=False)"
      ]
     },
     "metadata": {},
     "output_type": "display_data"
    },
    {
     "data": {
      "application/vnd.jupyter.widget-view+json": {
       "model_id": "f51c37a10b6d464e9cf4c82a5767286a",
       "version_major": 2,
       "version_minor": 0
      },
      "text/plain": [
       "Label(value='State', style=LabelStyle(font_variant='small-caps', font_weight='bold'))"
      ]
     },
     "metadata": {},
     "output_type": "display_data"
    },
    {
     "data": {
      "application/vnd.jupyter.widget-view+json": {
       "model_id": "ca757ba4863e470abcd300f1a34018bf",
       "version_major": 2,
       "version_minor": 0
      },
      "text/plain": [
       "Checkbox(value=False, description='established', indent=False)"
      ]
     },
     "metadata": {},
     "output_type": "display_data"
    },
    {
     "data": {
      "application/vnd.jupyter.widget-view+json": {
       "model_id": "97ab4aafc08b4227afba5dbe0fe0c121",
       "version_major": 2,
       "version_minor": 0
      },
      "text/plain": [
       "Checkbox(value=False, description='invalid', indent=False)"
      ]
     },
     "metadata": {},
     "output_type": "display_data"
    },
    {
     "data": {
      "application/vnd.jupyter.widget-view+json": {
       "model_id": "e7fa6cb08eb54d429ddb69896aa9bfb8",
       "version_major": 2,
       "version_minor": 0
      },
      "text/plain": [
       "Checkbox(value=False, description='new', indent=False)"
      ]
     },
     "metadata": {},
     "output_type": "display_data"
    },
    {
     "data": {
      "application/vnd.jupyter.widget-view+json": {
       "model_id": "20a2ffbf39ec4c8b9cdc662532cec34e",
       "version_major": 2,
       "version_minor": 0
      },
      "text/plain": [
       "Checkbox(value=False, description='related', indent=False)"
      ]
     },
     "metadata": {},
     "output_type": "display_data"
    }
   ],
   "source": [
    "import ipywidgets as widgets\n",
    "\n",
    "heading=dict(\n",
    "    font_weight='bold',\n",
    "    font_variant=\"small-caps\",\n",
    ")\n",
    "\n",
    "print(\"Create firewall rule code.\")\n",
    "\n",
    "ip_version_label = widgets.Label(value=\"IP Version\", style=heading)\n",
    "ip_version = widgets.RadioButtons(\n",
    "    options=[\"ipv4\", \"ipv6\"],\n",
    "    layout={\"width\": \"max-content\"},\n",
    ")\n",
    "\n",
    "fw_table_label = widgets.Label(value=\"Firewall Table\", style=heading)\n",
    "fw_table = widgets.Text(value=\"\", description=\"Table:\")\n",
    "\n",
    "\n",
    "description = widgets.Text(value=\"\", description=\"Description: \")\n",
    "\n",
    "rule_label = widgets.Label(value=\"Rule\", style=heading)\n",
    "rule = widgets.Text(value=\"\", description=\"Rule number: \")\n",
    "rule_disable = widgets.Checkbox(\n",
    "    value=False,\n",
    "    description=\"Disable rule?\",\n",
    "    indent=False\n",
    ")\n",
    "\n",
    "action_label = widgets.Label(value=\"Action\", style=heading)\n",
    "action = widgets.RadioButtons(\n",
    "    options=[\n",
    "        \"accept\",\n",
    "        \"continue\",\n",
    "        \"drop\",\n",
    "        \"jump\",\n",
    "        \"queue\",\n",
    "        \"reject\",\n",
    "        \"return\",\n",
    "        \"synproxy\",\n",
    "    ],\n",
    "    indent=True,\n",
    "    description=\"Action: \",\n",
    ")\n",
    "\n",
    "# Destination \n",
    "destination_label = widgets.Label(value=\"Destination\", style=heading)\n",
    "destination = widgets.Text(value=\"\", description=\"Address: \")\n",
    "destination_group_name = widgets.Text(value=\"\", description=\"Group Name: \")\n",
    "destination_address_group = widgets.Checkbox(\n",
    "    value=False,\n",
    "    description=\"Address Group\",\n",
    ")\n",
    "destination_network_group = widgets.Checkbox(\n",
    "    value=False,\n",
    "    description=\"Network Group\",\n",
    ")\n",
    "destination_port_group = widgets.Checkbox(\n",
    "    value=False,\n",
    "    description=\"Port Group\",\n",
    ")\n",
    "\n",
    "# Source\n",
    "source_label = widgets.Label(value=\"Source\", style=heading)\n",
    "source = widgets.Text(value=\"\", description=\"Address: \")\n",
    "source_group_name = widgets.Text(value=\"\", description=\"Group Name: \")\n",
    "source_address_group = widgets.Checkbox(\n",
    "    value=False,\n",
    "    description=\"Address Group\",\n",
    "    indent=True\n",
    ")\n",
    "source_network_group = widgets.Checkbox(\n",
    "    value=False,\n",
    "    description=\"Network Group\",\n",
    "    indent=True\n",
    ")\n",
    "source_port_group = widgets.Checkbox(\n",
    "    value=False,\n",
    "    description=\"Port Group\",\n",
    "    indent=True\n",
    ")\n",
    "\n",
    "protocol_label = widgets.Label(value=\"Protocol\", style=heading)\n",
    "protocol = widgets.RadioButtons(\n",
    "    options=[\n",
    "        \"tcp\",\n",
    "        \"udp\",\n",
    "        \"tcp_udp\",\n",
    "    ],\n",
    "    description=\"Protocol\"\n",
    ")\n",
    "\n",
    "log_label = widgets.Label(value=\"Logging\", style=heading)\n",
    "log = widgets.Checkbox(\n",
    "    value=False,\n",
    "    description=\"enable\",\n",
    "    indent=False\n",
    ")\n",
    "\n",
    "state_label = widgets.Label(value=\"State\", style=heading)\n",
    "state_est = widgets.Checkbox(\n",
    "    value=False,\n",
    "    description=\"established\",\n",
    "    indent=False\n",
    ")\n",
    "state_inv = widgets.Checkbox(\n",
    "    value=False,\n",
    "    description=\"invalid\",\n",
    "    indent=False\n",
    ")\n",
    "state_new = widgets.Checkbox(\n",
    "    value=False,\n",
    "    description=\"new\",\n",
    "    indent=False\n",
    ")\n",
    "state_rel = widgets.Checkbox(\n",
    "    value=False,\n",
    "    description=\"related\",\n",
    "    indent=False\n",
    ")\n",
    "\n",
    "\n",
    "# Display the form\n",
    "display(\n",
    "    ip_version_label,\n",
    "        ip_version, \n",
    "    fw_table_label,\n",
    "        fw_table,\n",
    "    rule_label,\n",
    "        rule,\n",
    "        rule_disable,\n",
    "        description,\n",
    "    action_label,\n",
    "        action,\n",
    "    destination_label,\n",
    "        destination,\n",
    "        destination_group_name,\n",
    "        destination_address_group,\n",
    "        destination_network_group,\n",
    "        destination_port_group,\n",
    "    source_label,\n",
    "        source,\n",
    "        source_group_name,\n",
    "        source_address_group,\n",
    "        source_network_group,\n",
    "        source_port_group,\n",
    "    protocol_label,\n",
    "        protocol,\n",
    "    log_label,\n",
    "        log,\n",
    "    state_label, \n",
    "        state_est,\n",
    "        state_inv,\n",
    "        state_new,\n",
    "        state_rel\n",
    ")\n"
   ]
  },
  {
   "cell_type": "code",
   "execution_count": 2,
   "id": "ecaf167a-3017-4eff-8b1a-f39e8fdb48b5",
   "metadata": {},
   "outputs": [
    {
     "name": "stdout",
     "output_type": "stream",
     "text": [
      "#\n",
      "# Rule \n",
      "#\n",
      "set firewall ipv4 name  rule  description ''\n",
      "set firewall ipv4 name  rule  action accept\n",
      "set firewall ipv4 name  rule  protocol tcp\n"
     ]
    }
   ],
   "source": [
    "# Create firewall configuration\n",
    "\n",
    "print(\"#\\n# Rule {0}\\n#\".format(rule.value))\n",
    "\n",
    "\n",
    "# Disable\n",
    "if rule_disable.value:\n",
    "    print(\"set firewall {0} name {1} rule {2} disable\".format(ip_version.value,fw_table.value,rule.value))\n",
    "\n",
    "\n",
    "# Description\n",
    "print(\"set firewall {0} name {1} rule {2} description \\'{3}\\'\".format(ip_version.value,fw_table.value,rule.value, description.value))\n",
    "\n",
    "\n",
    "# Action\n",
    "print(\"set firewall {0} name {1} rule {2} action {3}\".format(ip_version.value,fw_table.value,rule.value, action.value))\n",
    "\n",
    "\n",
    "# Destination\n",
    "if destination.value != \"\":\n",
    "    print(\"set firewall {0} name {1} rule {2} destination address {3}\".format(ip_version.value,fw_table.value,rule.value, destination.value))\n",
    "if destination_address_group.value:\n",
    "    print(\"set firewall {0} name {1} rule {2} destination group address-group {3}\".format(ip_version.value,fw_table.value,rule.value, destination_group_name.value))\n",
    "elif destination_network_group.value:\n",
    "    print(\"set firewall {0} name {1} rule {2} destination group network-group {3}\".format(ip_version.value,fw_table.value,rule.value, destination_group_name.value))\n",
    "elif destination_port_group.value:\n",
    "    print(\"set firewall {0} name {1} rule {2} destination group port-group {3}\".format(ip_version.value,fw_table.value,rule.value, destination_group_name.value))\n",
    "\n",
    "\n",
    "# Source\n",
    "if source.value != \"\":\n",
    "    print(\"set firewall {0} name {1} rule {2} source address {3}\".format(ip_version.value,fw_table.value,rule.value, source.value))\n",
    "if source_address_group.value:\n",
    "    print(\"set firewall {0} name {1} rule {2} source group address-group {3}\".format(ip_version.value,fw_table.value,rule.value, source_group_name.value))\n",
    "elif source_network_group.value:\n",
    "    print(\"set firewall {0} name {1} rule {2} source group network-group {3}\".format(ip_version.value,fw_table.value,rule.value, source_group_name.value))\n",
    "elif source_port_group.value:\n",
    "    print(\"set firewall {0} name {1} rule {2} source group port-group {3}\".format(ip_version.value,fw_table.value,rule.value, source_group_name.value))\n",
    "\n",
    "\n",
    "# Protocol\n",
    "print(\"set firewall {0} name {1} rule {2} protocol {3}\".format(ip_version.value,fw_table.value,rule.value, protocol.value))\n",
    "\n",
    "\n",
    "# Logging\n",
    "if log.value:\n",
    "    print(\"set firewall {0} name {1} rule {2} log\".format(ip_version.value,fw_table.value,rule.value))\n",
    "\n",
    "\n",
    "# States\n",
    "if state_est.value:\n",
    "    print(\"set firewall {0} name {1} rule {2} state 'established'\".format(ip_version.value,fw_table.value,rule.value))\n",
    "if state_inv.value:\n",
    "    print(\"set firewall {0} name {1} rule {2} state 'invalid'\".format(ip_version.value,fw_table.value,rule.value))\n",
    "if state_new.value:\n",
    "    print(\"set firewall {0} name {1} rule {2} state 'new'\".format(ip_version.value,fw_table.value,rule.value))\n",
    "if state_rel.value:\n",
    "    print(\"set firewall {0} name {1} rule {2} state 'related'\".format(ip_version.value,fw_table.value,rule.value))"
   ]
  },
  {
   "cell_type": "code",
   "execution_count": null,
   "id": "461186d5-846b-4e05-8d71-eca7acf22520",
   "metadata": {},
   "outputs": [],
   "source": []
  }
 ],
 "metadata": {
  "kernelspec": {
   "display_name": "Python 3 (ipykernel)",
   "language": "python",
   "name": "python3"
  },
  "language_info": {
   "codemirror_mode": {
    "name": "ipython",
    "version": 3
   },
   "file_extension": ".py",
   "mimetype": "text/x-python",
   "name": "python",
   "nbconvert_exporter": "python",
   "pygments_lexer": "ipython3",
   "version": "3.11.6"
  }
 },
 "nbformat": 4,
 "nbformat_minor": 5
}
